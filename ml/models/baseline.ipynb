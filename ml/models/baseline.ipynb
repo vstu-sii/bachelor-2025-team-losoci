{
 "cells": [
  {
   "cell_type": "code",
   "execution_count": 19,
   "metadata": {},
   "outputs": [],
   "source": [
    "import requests\n",
    "from langfuse import Langfuse\n",
    "from prompt_templates  import prompt"
   ]
  },
  {
   "cell_type": "markdown",
   "metadata": {},
   "source": [
    "### Параметры"
   ]
  },
  {
   "cell_type": "code",
   "execution_count": 20,
   "metadata": {},
   "outputs": [],
   "source": [
    "MODEL_CONFIG = {\n",
    "    \"model_name\": \"llama3.1\",\n",
    "    \"base_url\": \"http://26.81.6.105:11434/api/generate\",\n",
    "    \"langfuse_secret_key\": \"sk-lf-03128ca3-f1c4-4e1b-ba7c-17b8cf50f892\",\n",
    "    \"langfuse_public_key\": \"pk-lf-76c5e16f-7acd-420f-9e29-6d0f59507b4a\", \n",
    "    \"langfuse_host\": \"http://26.81.6.105:3000\"\n",
    "}"
   ]
  },
  {
   "cell_type": "code",
   "execution_count": 21,
   "metadata": {},
   "outputs": [],
   "source": [
    "langfuse = Langfuse(\n",
    "    secret_key=MODEL_CONFIG[\"langfuse_secret_key\"],\n",
    "    public_key=MODEL_CONFIG[\"langfuse_public_key\"],\n",
    "    host=MODEL_CONFIG[\"langfuse_host\"]\n",
    ")"
   ]
  },
  {
   "cell_type": "markdown",
   "metadata": {},
   "source": [
    "### Функции"
   ]
  },
  {
   "cell_type": "markdown",
   "metadata": {},
   "source": [
    "#### Курс доллара"
   ]
  },
  {
   "cell_type": "code",
   "execution_count": null,
   "metadata": {},
   "outputs": [],
   "source": [
    "import requests\n",
    "\n",
    "def get_currency_rate():\n",
    "    \n",
    "    url = \"https://api.exchangerate-api.com/v4/latest/USD\"\n",
    "    #try:\n",
    "    response = requests.get(url)\n",
    "    data = response.json()\n",
    "    rub_rate = data['rates']['RUB']\n",
    "    return rub_rate\n",
    "    #except Exception as e:\n",
    "        #print(f\"Ошибка при получении курса: {e}\")\n",
    "        #return None"
   ]
  },
  {
   "cell_type": "markdown",
   "metadata": {},
   "source": [
    "#### Отправка запроса"
   ]
  },
  {
   "cell_type": "code",
   "execution_count": null,
   "metadata": {},
   "outputs": [],
   "source": [
    "def generate_response(prompt: str, \n",
    "                     model_name: str = None,\n",
    "                     max_tokens: int = 500,\n",
    "                     temperature: float = 0.7):\n",
    "                     \n",
    "    model = model_name or MODEL_CONFIG[\"model_name\"]\n",
    "    \n",
    "    with langfuse.start_as_current_generation(\n",
    "        name=f\"LLM-Call-{model}\",\n",
    "        model=model,\n",
    "        input={\"prompt\": prompt},\n",
    "        model_parameters={\n",
    "            \"temperature\": temperature,\n",
    "            \"max_tokens\": max_tokens\n",
    "        }\n",
    "    ) as generation:\n",
    "        data = {\n",
    "            \"model\": model,\n",
    "            \"prompt\": prompt,\n",
    "            \"stream\": False,\n",
    "            \"options\": {\n",
    "                \"temperature\": temperature,\n",
    "                \"max_tokens\": max_tokens\n",
    "            }\n",
    "        }\n",
    "                    \n",
    "        response = requests.post(MODEL_CONFIG[\"base_url\"], json=data)\n",
    "    \n",
    "        if response.status_code == 200:\n",
    "            full_response = response.json()\n",
    "            generated_text = full_response[\"response\"]\n",
    "\n",
    "            # Подсчет токенов\n",
    "            prompt_tokens = full_response.get(\"prompt_eval_count\", 0)\n",
    "            completion_tokens = full_response.get(\"eval_count\", 0)\n",
    "\n",
    "            # Подсчет стоимости токена из расчета\n",
    "            rate = get_currency_rate()\n",
    "            currency_rate = rate or 83\n",
    "            input_cost_per_token = 0.00000244 * currency_rate\n",
    "            output_cost_per_token = input_cost_per_token * 2.5 \n",
    "            \n",
    "            input_cost = prompt_tokens * input_cost_per_token\n",
    "            output_cost = completion_tokens * output_cost_per_token\n",
    "            total_cost = input_cost + output_cost\n",
    "\n",
    "            generation.update(\n",
    "                output=generated_text,\n",
    "                usage_details={\n",
    "                    \"input\": prompt_tokens,\n",
    "                    \"output\": completion_tokens,\n",
    "                },\n",
    "                cost_details={\n",
    "                    \"input\": input_cost,\n",
    "                    \"output\": output_cost,\n",
    "                    \"total\": total_cost \n",
    "                },\n",
    "                metadata={\n",
    "                    \"response_time\": full_response.get(\"total_duration\", 0),\n",
    "                    \"VALUTA\" : \"Валюта указывается в рублях\"\n",
    "                }\n",
    "                \n",
    "            )\n",
    "            \n",
    "            return generated_text\n",
    "            \n",
    "        else:\n",
    "            error_msg = f\"Ошибка API: {response.status_code} - {response.text}\"\n",
    "            \n",
    "            generation.update(\n",
    "                output={\"error\": error_msg},\n",
    "                level=\"ERROR\"\n",
    "            )\n",
    "\n",
    "            return {\n",
    "                \"success\": False,\n",
    "                \"error\": error_msg,\n",
    "                \"model\": model\n",
    "            }\n",
    "            \n",
    "    langfuse.flush()"
   ]
  },
  {
   "cell_type": "markdown",
   "metadata": {},
   "source": [
    "### Запрос модели"
   ]
  },
  {
   "cell_type": "markdown",
   "metadata": {},
   "source": [
    "added ml/models, ml/prompts_templates.py(2 промпта), models/baseline.ipynb(Отправка запроса(Учет токенов,подсчет их стоимости))"
   ]
  },
  {
   "cell_type": "code",
   "execution_count": null,
   "metadata": {},
   "outputs": [],
   "source": [
    "generate_response(prompt_templates.prompt)"
   ]
  }
 ],
 "metadata": {
  "kernelspec": {
   "display_name": "Python 3",
   "language": "python",
   "name": "python3"
  },
  "language_info": {
   "codemirror_mode": {
    "name": "ipython",
    "version": 3
   },
   "file_extension": ".py",
   "mimetype": "text/x-python",
   "name": "python",
   "nbconvert_exporter": "python",
   "pygments_lexer": "ipython3",
   "version": "3.13.3"
  }
 },
 "nbformat": 4,
 "nbformat_minor": 2
}
